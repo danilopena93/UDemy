{
 "cells": [
  {
   "cell_type": "code",
   "execution_count": 9,
   "metadata": {
    "collapsed": true
   },
   "outputs": [],
   "source": [
    "import numpy as np\n",
    "import pandas as pd\n",
    "\n",
    "def get_data():\n",
    "    df = pd.read_csv('ecommerce_data.csv')\n",
    "    data = df.as_matrix()\n",
    "    \n",
    "    X = data[:, :-1]\n",
    "    Y = data[:, -1]\n",
    "    \n",
    "    X[:,1] = (X[:,1] - X[:,1].mean())/X[:,1].std()\n",
    "    X[:,2] = (X[:,2] - X[:,2].mean())/X[:,2].std()\n",
    "    \n",
    "    N,D = X.shape\n",
    "    X2 = np.zeros((N, D+3 )) #4 categorical variables\n",
    "    X2[:,0:(D-1)] = X[:,0:(D-1)]\n",
    "    \n",
    "    for n in range(N):\n",
    "        t = int(X[n,D-1])\n",
    "        X2[n,t+D-1] = 1\n",
    "    \n",
    "    Z = np.zeros((N,4))\n",
    "    Z[np.arange(N), X[:,D-1].astype(np.int32)] = 1\n",
    "    \n",
    "    #X2[:-4:] = Z\n",
    "    assert(np.abs(X2[:,-4:] - Z).sum() < 10e-10)\n",
    "    \n",
    "    return X2, Y\n",
    "\n",
    "def get_binary_data():\n",
    "    X,Y = get_data()\n",
    "    X2 = X[Y <=1]\n",
    "    Y2 = Y[Y <=1]\n",
    "    return X2,Y2\n",
    "\n"
   ]
  },
  {
   "cell_type": "code",
   "execution_count": 10,
   "metadata": {
    "collapsed": false
   },
   "outputs": [
    {
     "name": "stdout",
     "output_type": "stream",
     "text": [
      "Score: 0.374\n"
     ]
    }
   ],
   "source": [
    "X,Y = get_data()\n",
    "\n",
    "M = 5 #hidden units\n",
    "D = X.shape[1]\n",
    "K = len(set(Y)) #num of unique values in Y\n",
    "W1 = np.random.randn(D,M)\n",
    "b1 = np.zeros(M)\n",
    "W2 = np.random.randn(M,K)\n",
    "b2 = np.zeros(K)\n",
    "\n",
    "def softmax(a):\n",
    "    expA = np.exp(a)\n",
    "    return expA/expA.sum(axis=1, keepdims=True)\n",
    "\n",
    "def forward(X, W1, b1, W2, b2):\n",
    "    Z = np.tanh(X.dot(W1) +b1)\n",
    "    return softmax(Z.dot(W2)+b2)\n",
    "\n",
    "P_Y_given_X = forward(X,W1,b1,W2,b2)\n",
    "predictions = np.argmax(P_Y_given_X, axis = 1)\n",
    "\n",
    "def classification_rate(Y,P):\n",
    "    return np.mean(Y==P)\n",
    "\n",
    "print(\"Score:\",classification_rate(Y,predictions))"
   ]
  },
  {
   "cell_type": "code",
   "execution_count": null,
   "metadata": {
    "collapsed": true
   },
   "outputs": [],
   "source": []
  }
 ],
 "metadata": {
  "kernelspec": {
   "display_name": "Python [conda root]",
   "language": "python",
   "name": "conda-root-py"
  },
  "language_info": {
   "codemirror_mode": {
    "name": "ipython",
    "version": 3
   },
   "file_extension": ".py",
   "mimetype": "text/x-python",
   "name": "python",
   "nbconvert_exporter": "python",
   "pygments_lexer": "ipython3",
   "version": "3.5.2"
  }
 },
 "nbformat": 4,
 "nbformat_minor": 1
}
