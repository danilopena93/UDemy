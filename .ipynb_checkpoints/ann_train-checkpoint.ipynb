{
 "cells": [
  {
   "cell_type": "code",
   "execution_count": 2,
   "metadata": {
    "collapsed": true
   },
   "outputs": [],
   "source": [
    "import numpy as np\n",
    "import matplotlib.pyplot as plt\n",
    "import pandas as pd\n",
    "\n",
    "from sklearn.utils import shuffle\n",
    "\n",
    "def get_data():\n",
    "    df = pd.read_csv('ecommerce_data.csv')\n",
    "    data = df.as_matrix()\n",
    "    \n",
    "    X = data[:, :-1]\n",
    "    Y = data[:, -1]\n",
    "    \n",
    "    X[:,1] = (X[:,1] - X[:,1].mean())/X[:,1].std()\n",
    "    X[:,2] = (X[:,2] - X[:,2].mean())/X[:,2].std()\n",
    "    \n",
    "    N,D = X.shape\n",
    "    X2 = np.zeros((N, D+3 )) #4 categorical variables\n",
    "    X2[:,0:(D-1)] = X[:,0:(D-1)]\n",
    "    \n",
    "    for n in range(N):\n",
    "        t = int(X[n,D-1])\n",
    "        X2[n,t+D-1] = 1\n",
    "    \n",
    "    Z = np.zeros((N,4))\n",
    "    Z[np.arange(N), X[:,D-1].astype(np.int32)] = 1\n",
    "    \n",
    "    #X2[:-4:] = Z\n",
    "    assert(np.abs(X2[:,-4:] - Z).sum() < 10e-10)\n",
    "    \n",
    "    return X2, Y\n",
    "\n",
    "def y2indicator(y, K):\n",
    "    #K is number of classes\n",
    "    N = len(y)\n",
    "    ind = np.zeros((N,K))\n",
    "    for i in range(N):\n",
    "        ind[i,y[i]] = 1\n",
    "    return ind\n"
   ]
  },
  {
   "cell_type": "code",
   "execution_count": 5,
   "metadata": {
    "collapsed": false
   },
   "outputs": [
    {
     "name": "stdout",
     "output_type": "stream",
     "text": [
      "0 0.63965907752 0.612601188898\n",
      "1000 0.0388920339435 0.0811415877896\n",
      "2000 0.0339899516605 0.0782983386908\n",
      "3000 0.0313756583451 0.0790613849243\n",
      "4000 0.0296261829693 0.081832261407\n",
      "5000 0.0282606929766 0.0844232629031\n",
      "6000 0.0270869710075 0.0869014993492\n",
      "7000 0.0260202822514 0.0894203085966\n",
      "8000 0.0251506202708 0.0915597925073\n",
      "9000 0.0244312886532 0.0942355837871\n",
      "Final train classification rate: 0.9775\n",
      "Final test classification rate: 0.94\n"
     ]
    },
    {
     "data": {
      "image/png": "[encoded data removed]",
      "text/plain": [
       "<matplotlib.figure.Figure at 0x19bc5fc97b8>"
      ]
     },
     "metadata": {},
     "output_type": "display_data"
    }
   ],
   "source": [
    "X,Y = get_data()\n",
    "X,Y = shuffle(X,Y)\n",
    "Y = Y.astype(np.int32)\n",
    "M = 5 #hidden units in NN\n",
    "D = X.shape[1]\n",
    "K = len(set(Y))\n",
    "\n",
    "Xtrain = X[:-100]\n",
    "Ytrain = Y[:-100]\n",
    "Ytrain_ind = y2indicator(Ytrain,K)\n",
    "\n",
    "Xtest = X[-100:]\n",
    "Ytest = Y[-100:]\n",
    "Ytest_ind = y2indicator(Ytest,K)\n",
    "\n",
    "W1 = np.random.randn(D,M)\n",
    "b1 = np.zeros(M)\n",
    "W2 = np.random.randn(M,K)\n",
    "b2 = np.zeros(K)\n",
    "\n",
    "def softmax(a):\n",
    "    expA = np.exp(a)\n",
    "    return expA/expA.sum(axis=1, keepdims=True)\n",
    "\n",
    "def forward(X,W1,b1,W2,b2):\n",
    "    Z= np.tanh(X.dot(W1)+b1)\n",
    "    return softmax(Z.dot(W2)+b2), Z\n",
    "\n",
    "def predict(P_Y_given_X):\n",
    "    return np.argmax(P_Y_given_X, axis=1)\n",
    "\n",
    "def classification_rate(Y,P):\n",
    "    return np.mean(Y==P)\n",
    "\n",
    "def cross_entropy(T,pY):\n",
    "    return -np.mean(T*np.log(pY))\n",
    "\n",
    "train_costs = []\n",
    "test_costs = []\n",
    "learning_rate = 0.001\n",
    "\n",
    "for i in range(10000):\n",
    "    pYtrain, Ztrain = forward(Xtrain,W1,b1, W2, b2)\n",
    "    pYtest, Ztest = forward(Xtest,W1,b1,W2,b2)\n",
    "    \n",
    "    ctrain = cross_entropy(Ytrain_ind, pYtrain)\n",
    "    ctest = cross_entropy(Ytest_ind,pYtest)\n",
    "    train_costs.append(ctrain)\n",
    "    test_costs.append(ctest)\n",
    "    \n",
    "    #gradient descent\n",
    "    W2 -= learning_rate*Ztrain.T.dot(pYtrain-Ytrain_ind)\n",
    "    b2 -= learning_rate*(pYtrain-Ytrain_ind).sum()\n",
    "    dZ = (pYtrain-Ytrain_ind).dot(W2.T)*(1-Ztrain*Ztrain) #error\n",
    "    W1 -= learning_rate*Xtrain.T.dot(dZ)\n",
    "    b1 -= learning_rate*dZ.sum(axis=0)\n",
    "    if i % 1000 == 0:\n",
    "        print (i, ctrain, ctest)\n",
    "print(\"Final train classification rate:\", classification_rate(Ytrain, predict(pYtrain)))\n",
    "print(\"Final test classification rate:\", classification_rate(Ytest, predict(pYtest)))\n",
    "\n",
    "legend1, = plt.plot(train_costs, label = 'train cost')\n",
    "legend2, = plt.plot(test_costs, label = 'test cost')\n",
    "plt.legend([legend1, legend2])\n",
    "plt.show()\n",
    "#97.8% accuracy train/92%test"
   ]
  },
  {
   "cell_type": "code",
   "execution_count": null,
   "metadata": {
    "collapsed": true
   },
   "outputs": [],
   "source": []
  },
  {
   "cell_type": "code",
   "execution_count": null,
   "metadata": {
    "collapsed": true
   },
   "outputs": [],
   "source": []
  },
  {
   "cell_type": "code",
   "execution_count": null,
   "metadata": {
    "collapsed": true
   },
   "outputs": [],
   "source": []
  }
 ],
 "metadata": {
  "anaconda-cloud": {},
  "kernelspec": {
   "display_name": "Python [conda root]",
   "language": "python",
   "name": "conda-root-py"
  },
  "language_info": {
   "codemirror_mode": {
    "name": "ipython",
    "version": 3
   },
   "file_extension": ".py",
   "mimetype": "text/x-python",
   "name": "python",
   "nbconvert_exporter": "python",
   "pygments_lexer": "ipython3",
   "version": "3.5.2"
  }
 },
 "nbformat": 4,
 "nbformat_minor": 1
}
