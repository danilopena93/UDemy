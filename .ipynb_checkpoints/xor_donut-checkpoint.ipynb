{
 "cells": [
  {
   "cell_type": "code",
   "execution_count": 30,
   "metadata": {
    "collapsed": false
   },
   "outputs": [],
   "source": [
    "import numpy as np\n",
    "import matplotlib.pyplot as plt\n",
    "%matplotlib inline\n",
    "\n",
    "#for binary classification! no softmax here\n",
    "\n",
    "def forward(X,W1,b1,W2,b2):\n",
    "    #assume we will use tanh() on hidden\n",
    "    #and softmax on output\n",
    "    #2 sigmoids in a row\n",
    "    Z = 1/(1+np.exp(-(X.dot(W1)+b1)))\n",
    "    activation = Z.dot(W2) + b2\n",
    "    Y = 1/(1+np.exp(-activation))\n",
    "    return Y,Z\n",
    "\n",
    "def predict(X,W1,b1,W2,b2):\n",
    "    Y, _ = forward(X,W1,b1,W2,b2)\n",
    "    return np.round(Y) #no longer argmax\n",
    "\n",
    "def derivative_w2(Z,T,Y):\n",
    "    #Z is (n,M)\n",
    "    return Z.T.dot(T-Y)\n",
    "\n",
    "def derivative_b2(T,Y):\n",
    "    return (T-Y).sum()\n",
    "\n",
    "def derivative_w1(X,Z,T,Y,W2):\n",
    "    #dZ = np.outer(T-Y,W2)*Z*(1-Z)\n",
    "    dZ = np.outer(T-Y,W2) *(1-Z*Z)\n",
    "    #sigmoid derivative and tanh derivative\n",
    "    return X.T.dot(dZ)\n",
    "\n",
    "def derivative_b1(Z,T,Y,W2):\n",
    "    dZ = np.outer(T-Y, W2) * (1-Z*Z)\n",
    "    return dZ.sum(axis=0)\n",
    "\n",
    "def cost(T,Y):\n",
    "    #binary cross-entropy\n",
    "    tot = 0\n",
    "    for n in range(len(T)):\n",
    "        if T[n] == 1:\n",
    "            tot += np.log(Y[n])\n",
    "        else:\n",
    "            tot += np.log(1-Y[n])\n",
    "    return tot\n",
    "\n",
    "def test_xor():\n",
    "    X = np.array([[0,0],[0,1],[1,0],[1,-1]])\n",
    "    Y = np.array([0,1,1,0])\n",
    "    W1 = np.random.randn(2,4)\n",
    "    b1 = np.random.randn(4) #NN with 4 hidden units\n",
    "    W2 = np.random.rand(4) #NN with 4 hidden units\n",
    "    b2 = np.random.rand(1)\n",
    "    LL = [] #keep track of log likelihoods\n",
    "    learning_rate = 0.005\n",
    "    regularization = 0\n",
    "    last_error_rate = None\n",
    "    #gradient descent code\n",
    "    for i in range(100000):\n",
    "        pY,Z = forward(X,W1,b1,W2,b2)\n",
    "        ll = cost(Y,pY)\n",
    "        prediction = predict(X,W1,b1,W2,b2)\n",
    "        er = np.abs(prediction-Y).mean()\n",
    "        #everytime something changes, print out change\n",
    "        if er != last_error_rate:\n",
    "            last_error_rate = er\n",
    "            print(\"error rate\",er)\n",
    "            print(\"true:\",Y)\n",
    "            print(\"pred:\",prediction)\n",
    "        #exit if log likelihood increases\n",
    "        if LL and ll < LL[-1]:\n",
    "            print('early exit')\n",
    "            break \n",
    "        LL.append(ll)\n",
    "        #includes regularization\n",
    "        W2 += learning_rate * (derivative_w2(Z,Y,pY) - regularization * W2)\n",
    "        b2 += learning_rate * (derivative_b2(Y,pY) - regularization * b2)\n",
    "        W1 += learning_rate * (derivative_w1(X,Z,Y,pY,W2) - regularization * W1)\n",
    "        b1 += learning_rate * (derivative_b1(Z,Y,pY,W2) - regularization * b1)\n",
    "        if i % 10000 == 0:\n",
    "            print(ll)\n",
    "    plt.plot(LL)\n",
    "    plt.show()\n",
    "    print('final classication rate', 1-np.abs(prediction-Y).mean())\n",
    "        \n",
    "def test_donut():\n",
    "    #donut example\n",
    "    N = 1000\n",
    "    R_inner = 5\n",
    "    R_outer = 10\n",
    "    \n",
    "    #distance from origin is radius + random normal\n",
    "    #angle theta is uniformly distributed between (0, 2pi)\n",
    "    R1 = np.random.randn(N/2) + R_inner\n",
    "    theta = 2*np.pi*np.random.random(N/2)\n",
    "    X_inner = np.concatenate([[R1*np.cos(theta)], [R1 * np.sin(theta)]]).T\n",
    "        \n",
    "    R2 = np.random.randn(N/2) + R_outer\n",
    "    theta = 2*np.pi*np.random.random(N/2)\n",
    "    X_outer = np.concatenate([[R2*np.cos(theta)], [R2 * np.sin(theta)]]).T\n",
    "    \n",
    "    X = np.concatenate([X_inner,X_outer])\n",
    "    Y = np.array([0]*int((N/2))+ [1]*int((N/2)))\n",
    "    \n",
    "    n_hidden = 8\n",
    "    W1 = np.random.randn(2,n_hidden)\n",
    "    b1 = np.random.randn(n_hidden)\n",
    "    W2 = np.random.randn(n_hidden)\n",
    "    b2 = np.random.randn(1)\n",
    "    LL = [] #keep track of likelihoods\n",
    "    learning_rate = 0.00005\n",
    "    regularization = 0.2\n",
    "    last_error_rate = None\n",
    "    for i in range(160000):\n",
    "        pY,Z = forward(X,W1,b1,W2,b2)\n",
    "        ll = cost(Y,pY)\n",
    "        prediction = predict(X,W1,b1,W2,b2)\n",
    "        er = np.abs(prediction-Y).mean()\n",
    "        LL.append(ll)\n",
    "        W2 += learning_rate * (derivative_w2(Z,Y,pY) - regularization * W2)\n",
    "        b2 += learning_rate * (derivative_b2(Y,pY) - regularization * b2)\n",
    "        W1 += learning_rate * (derivative_w1(X,Z,Y,pY,W2) - regularization * W1)\n",
    "        b1 += learning_rate * (derivative_b1(Z,Y,pY,W2) - regularization * b1)\n",
    "        if i % 10000 == 0:\n",
    "            print('ll:',ll,'classification rate', 1-er)\n",
    "    plt.plot(LL)\n",
    "    plt.show()\n",
    "    print('final classication rate', 1-np.abs(prediction-Y).mean())\n",
    "        \n",
    "if __name__ == 'main':\n",
    "    test_xor()\n",
    "#different problems, same NN, "
   ]
  },
  {
   "cell_type": "code",
   "execution_count": 21,
   "metadata": {
    "collapsed": false
   },
   "outputs": [
    {
     "name": "stdout",
     "output_type": "stream",
     "text": [
      "error rate 0.5\n",
      "true: [0 1 1 0]\n",
      "pred: [ 1.  1.  1.  1.]\n",
      "-4.24550312487\n",
      "error rate 0.25\n",
      "true: [0 1 1 0]\n",
      "pred: [ 1.  1.  1.  0.]\n",
      "error rate 0.5\n",
      "true: [0 1 1 0]\n",
      "pred: [ 1.  1.  0.  0.]\n",
      "error rate 0.25\n",
      "true: [0 1 1 0]\n",
      "pred: [ 0.  1.  0.  0.]\n",
      "error rate 0.0\n",
      "true: [0 1 1 0]\n",
      "pred: [ 0.  1.  1.  0.]\n",
      "-0.24924836152\n",
      "-0.112261479934\n",
      "-0.0655756810884\n",
      "-0.0467786765765\n",
      "-0.0363046200322\n",
      "-0.0293974247384\n",
      "-0.0245901952496\n",
      "-0.021097476473\n",
      "-0.0184622594748\n"
     ]
    },
    {
     "data": {
      "image/png": "[encoded data removed]",
      "text/plain": [
       "<matplotlib.figure.Figure at 0x1b1c6190f28>"
      ]
     },
     "metadata": {},
     "output_type": "display_data"
    },
    {
     "name": "stdout",
     "output_type": "stream",
     "text": [
      "final classication rate 1.0\n"
     ]
    }
   ],
   "source": [
    "test_xor()"
   ]
  },
  {
   "cell_type": "code",
   "execution_count": null,
   "metadata": {
    "collapsed": false,
    "scrolled": false
   },
   "outputs": [
    {
     "name": "stderr",
     "output_type": "stream",
     "text": [
      "C:\\Users\\danil\\AppData\\Local\\Continuum\\Anaconda3\\lib\\site-packages\\ipykernel\\__main__.py:94: VisibleDeprecationWarning: using a non-integer number instead of an integer will result in an error in the future\n",
      "C:\\Users\\danil\\AppData\\Local\\Continuum\\Anaconda3\\lib\\site-packages\\ipykernel\\__main__.py:95: VisibleDeprecationWarning: using a non-integer number instead of an integer will result in an error in the future\n",
      "C:\\Users\\danil\\AppData\\Local\\Continuum\\Anaconda3\\lib\\site-packages\\ipykernel\\__main__.py:98: VisibleDeprecationWarning: using a non-integer number instead of an integer will result in an error in the future\n",
      "C:\\Users\\danil\\AppData\\Local\\Continuum\\Anaconda3\\lib\\site-packages\\ipykernel\\__main__.py:99: VisibleDeprecationWarning: using a non-integer number instead of an integer will result in an error in the future\n"
     ]
    },
    {
     "name": "stdout",
     "output_type": "stream",
     "text": [
      "ll: -1036.739888 classification rate 0.519\n"
     ]
    }
   ],
   "source": [
    "test_donut()"
   ]
  }
 ],
 "metadata": {
  "anaconda-cloud": {},
  "kernelspec": {
   "display_name": "Python [conda root]",
   "language": "python",
   "name": "conda-root-py"
  },
  "language_info": {
   "codemirror_mode": {
    "name": "ipython",
    "version": 3
   },
   "file_extension": ".py",
   "mimetype": "text/x-python",
   "name": "python",
   "nbconvert_exporter": "python",
   "pygments_lexer": "ipython3",
   "version": "3.5.2"
  }
 },
 "nbformat": 4,
 "nbformat_minor": 1
}
