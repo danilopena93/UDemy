{
 "cells": [
  {
   "cell_type": "code",
   "execution_count": 5,
   "metadata": {
    "collapsed": true
   },
   "outputs": [],
   "source": [
    "import numpy as np\n",
    "import matplotlib.pyplot as plt\n",
    "import pandas as pd\n",
    "\n",
    "from sklearn.utils import shuffle\n",
    "\n",
    "def get_data():\n",
    "    df = pd.read_csv('ecommerce_data.csv')\n",
    "    data = df.as_matrix()\n",
    "    \n",
    "    X = data[:, :-1]\n",
    "    Y = data[:, -1]\n",
    "    \n",
    "    X[:,1] = (X[:,1] - X[:,1].mean())/X[:,1].std()\n",
    "    X[:,2] = (X[:,2] - X[:,2].mean())/X[:,2].std()\n",
    "    \n",
    "    N,D = X.shape\n",
    "    X2 = np.zeros((N, D+3 )) #4 categorical variables\n",
    "    X2[:,0:(D-1)] = X[:,0:(D-1)]\n",
    "    \n",
    "    for n in range(N):\n",
    "        t = int(X[n,D-1])\n",
    "        X2[n,t+D-1] = 1\n",
    "    \n",
    "    Z = np.zeros((N,4))\n",
    "    Z[np.arange(N), X[:,D-1].astype(np.int32)] = 1\n",
    "    \n",
    "    #X2[:-4:] = Z\n",
    "    assert(np.abs(X2[:,-4:] - Z).sum() < 10e-10)\n",
    "    \n",
    "    return X2, Y\n",
    "\n",
    "def y2indicator(y, K):\n",
    "    #K is number of classes\n",
    "    N = len(y)\n",
    "    ind = np.zeros((N,K))\n",
    "    for i in range(N):\n",
    "        ind[i,y[i]] = 1\n",
    "    return ind\n"
   ]
  },
  {
   "cell_type": "code",
   "execution_count": 12,
   "metadata": {
    "collapsed": false
   },
   "outputs": [
    {
     "name": "stdout",
     "output_type": "stream",
     "text": [
      "0 0.353985557255 0.3565328069\n",
      "1000 0.0821096538259 0.121491899317\n",
      "2000 0.0772093463744 0.119955096062\n",
      "3000 0.0753994746298 0.120192107441\n",
      "4000 0.0744747021523 0.120761958303\n",
      "5000 0.0739201705216 0.121386638988\n",
      "6000 0.0735543097581 0.121991632749\n",
      "7000 0.0732972102753 0.122555598407\n",
      "8000 0.0731083065567 0.123074020869\n",
      "9000 0.0729648386346 0.123548190721\n",
      "Final train classification rate: 0.925\n",
      "Final test classification rate: 0.85\n"
     ]
    },
    {
     "data": {
      "image/png": "[encoded data removed]",
      "text/plain": [
       "<matplotlib.figure.Figure at 0x133cd98c9b0>"
      ]
     },
     "metadata": {},
     "output_type": "display_data"
    }
   ],
   "source": [
    "X,Y = get_data()\n",
    "X,Y = shuffle(X,Y)\n",
    "Y = Y.astype(np.int32)\n",
    "D = X.shape[1]\n",
    "K = len(set(Y))\n",
    "\n",
    "Xtrain = X[:-100]\n",
    "Ytrain = Y[:-100]\n",
    "Ytrain_ind = y2indicator(Ytrain,K)\n",
    "\n",
    "Xtest = X[-100:]\n",
    "Ytest = Y[-100:]\n",
    "Ytest_ind = y2indicator(Ytest,K)\n",
    "\n",
    "W = np.random.randn(D,K) #distribution weights\n",
    "b = np.zeros(K)\n",
    "\n",
    "def softmax(a):\n",
    "    expA = np.exp(a)\n",
    "    return expA/expA.sum(axis=1, keepdims=True)\n",
    "\n",
    "def forward(X,W,b):\n",
    "    return softmax(X.dot(W)+b)\n",
    "\n",
    "def predict(P_Y_given_X):\n",
    "    return np.argmax(P_Y_given_X, axis=1)\n",
    "\n",
    "def classification_rate(Y,P):\n",
    "    return np.mean(Y==P)\n",
    "\n",
    "def cross_entropy(T,pY):\n",
    "    return -np.mean(T*np.log(pY))\n",
    "\n",
    "train_costs = []\n",
    "test_costs = []\n",
    "learning_rate = 0.001\n",
    "\n",
    "for i in range(10000):\n",
    "    pYtrain = forward(Xtrain,W,b)\n",
    "    pYtest = forward(Xtest,W,b)\n",
    "    \n",
    "    ctrain = cross_entropy(Ytrain_ind, pYtrain)\n",
    "    ctest = cross_entropy(Ytest_ind,pYtest)\n",
    "    train_costs.append(ctrain)\n",
    "    test_costs.append(ctest)\n",
    "    \n",
    "    W -= learning_rate*Xtrain.T.dot(pYtrain-Ytrain_ind)\n",
    "    b -= learning_rate*(pYtrain-Ytrain_ind).sum(axis=0)\n",
    "    if i % 1000 == 0:\n",
    "        print (i, ctrain, ctest)\n",
    "print(\"Final train classification rate:\", classification_rate(Ytrain, predict(pYtrain)))\n",
    "print(\"Final test classification rate:\", classification_rate(Ytest, predict(pYtest)))\n",
    "\n",
    "legend1, = plt.plot(train_costs, label = 'train cost')\n",
    "legend2, = plt.plot(test_costs, label = 'test cost')\n",
    "plt.legend([legend1, legend2])\n",
    "plt.show()\n",
    "#train cost is a little less than test cost\n",
    "#93% accuracy on test set"
   ]
  },
  {
   "cell_type": "code",
   "execution_count": null,
   "metadata": {
    "collapsed": true
   },
   "outputs": [],
   "source": []
  },
  {
   "cell_type": "code",
   "execution_count": null,
   "metadata": {
    "collapsed": true
   },
   "outputs": [],
   "source": []
  },
  {
   "cell_type": "code",
   "execution_count": null,
   "metadata": {
    "collapsed": true
   },
   "outputs": [],
   "source": []
  }
 ],
 "metadata": {
  "anaconda-cloud": {},
  "kernelspec": {
   "display_name": "Python [conda root]",
   "language": "python",
   "name": "conda-root-py"
  },
  "language_info": {
   "codemirror_mode": {
    "name": "ipython",
    "version": 3
   },
   "file_extension": ".py",
   "mimetype": "text/x-python",
   "name": "python",
   "nbconvert_exporter": "python",
   "pygments_lexer": "ipython3",
   "version": "3.5.2"
  }
 },
 "nbformat": 4,
 "nbformat_minor": 1
}
